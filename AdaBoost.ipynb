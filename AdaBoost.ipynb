{
 "cells": [
  {
   "cell_type": "markdown",
   "id": "6abb2bee",
   "metadata": {},
   "source": [
    "# Market_Positioning_of_Mobile"
   ]
  },
  {
   "cell_type": "raw",
   "id": "edd9417d",
   "metadata": {},
   "source": [
    "Author: Swetha Kumar\n",
    "Date : 07/03/2024"
   ]
  },
  {
   "cell_type": "markdown",
   "id": "7661d23b",
   "metadata": {},
   "source": [
    "# ADABOOST CLASSIFIER:"
   ]
  },
  {
   "cell_type": "code",
   "execution_count": 41,
   "id": "9c50fd82",
   "metadata": {},
   "outputs": [],
   "source": [
    "from sklearn.ensemble import AdaBoostClassifier, GradientBoostingClassifier"
   ]
  },
  {
   "cell_type": "code",
   "execution_count": 42,
   "id": "b29b1fa5",
   "metadata": {},
   "outputs": [],
   "source": [
    "ada = AdaBoostClassifier(n_estimators = 100)\n",
    "ada.fit(x_train, y_train)\n",
    "y_train_ada = ada.predict(x_train)\n",
    "y_hat_test_ada = ada.predict(x_test)"
   ]
  },
  {
   "cell_type": "code",
   "execution_count": 43,
   "id": "03ba102f",
   "metadata": {},
   "outputs": [
    {
     "name": "stdout",
     "output_type": "stream",
     "text": [
      "The Accuracy of the model is:  0.83\n",
      "[[392  21   0   0]\n",
      " [ 67 286  47   0]\n",
      " [  0  41 301  42]\n",
      " [  0   0  56 347]]\n",
      "              precision    recall  f1-score   support\n",
      "\n",
      "           0       0.85      0.95      0.90       413\n",
      "           1       0.82      0.71      0.76       400\n",
      "           2       0.75      0.78      0.76       384\n",
      "           3       0.89      0.86      0.88       403\n",
      "\n",
      "    accuracy                           0.83      1600\n",
      "   macro avg       0.83      0.83      0.83      1600\n",
      "weighted avg       0.83      0.83      0.83      1600\n",
      "\n"
     ]
    }
   ],
   "source": [
    "model_eval(y_train, y_train_ada)"
   ]
  },
  {
   "cell_type": "code",
   "execution_count": 44,
   "id": "3b64315c",
   "metadata": {},
   "outputs": [
    {
     "name": "stdout",
     "output_type": "stream",
     "text": [
      "The Accuracy of the model is:  0.83\n",
      "[[83  4  0  0]\n",
      " [18 70 12  0]\n",
      " [ 0 12 92 12]\n",
      " [ 0  0 11 86]]\n",
      "              precision    recall  f1-score   support\n",
      "\n",
      "           0       0.82      0.95      0.88        87\n",
      "           1       0.81      0.70      0.75       100\n",
      "           2       0.80      0.79      0.80       116\n",
      "           3       0.88      0.89      0.88        97\n",
      "\n",
      "    accuracy                           0.83       400\n",
      "   macro avg       0.83      0.83      0.83       400\n",
      "weighted avg       0.83      0.83      0.83       400\n",
      "\n"
     ]
    }
   ],
   "source": [
    "model_eval(y_test, y_hat_test_ada)"
   ]
  },
  {
   "cell_type": "markdown",
   "id": "99faf6a3",
   "metadata": {},
   "source": []
  },
  {
   "cell_type": "code",
   "execution_count": null,
   "id": "55ffa483",
   "metadata": {},
   "outputs": [],
   "source": []
  }
 ],
 "metadata": {
  "kernelspec": {
   "display_name": "Python 3 (ipykernel)",
   "language": "python",
   "name": "python3"
  },
  "language_info": {
   "codemirror_mode": {
    "name": "ipython",
    "version": 3
   },
   "file_extension": ".py",
   "mimetype": "text/x-python",
   "name": "python",
   "nbconvert_exporter": "python",
   "pygments_lexer": "ipython3",
   "version": "3.10.9"
  }
 },
 "nbformat": 4,
 "nbformat_minor": 5
}
