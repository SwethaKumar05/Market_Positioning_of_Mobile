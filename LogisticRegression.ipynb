{
 "cells": [
  {
   "cell_type": "markdown",
   "id": "38773f1a",
   "metadata": {},
   "source": [
    "# Market_Positioning_of_Mobile"
   ]
  },
  {
   "cell_type": "raw",
   "id": "eec3ec64",
   "metadata": {},
   "source": [
    "Author: Swetha Kumar\n",
    "Date : 07/03/2024"
   ]
  },
  {
   "cell_type": "markdown",
   "id": "17329d0f",
   "metadata": {},
   "source": [
    "# Multi-Variate Model:"
   ]
  },
  {
   "cell_type": "markdown",
   "id": "7a774239",
   "metadata": {},
   "source": [
    "# APPLYING THE MODEL:"
   ]
  },
  {
   "cell_type": "code",
   "execution_count": 23,
   "id": "f1ca1ac1",
   "metadata": {},
   "outputs": [
    {
     "name": "stderr",
     "output_type": "stream",
     "text": [
      "C:\\Users\\DELL\\anaconda3\\downloads\\lib\\site-packages\\sklearn\\linear_model\\_logistic.py:458: ConvergenceWarning: lbfgs failed to converge (status=1):\n",
      "STOP: TOTAL NO. of ITERATIONS REACHED LIMIT.\n",
      "\n",
      "Increase the number of iterations (max_iter) or scale the data as shown in:\n",
      "    https://scikit-learn.org/stable/modules/preprocessing.html\n",
      "Please also refer to the documentation for alternative solver options:\n",
      "    https://scikit-learn.org/stable/modules/linear_model.html#logistic-regression\n",
      "  n_iter_i = _check_optimize_result(\n"
     ]
    },
    {
     "data": {
      "text/html": [
       "<style>#sk-container-id-1 {color: black;background-color: white;}#sk-container-id-1 pre{padding: 0;}#sk-container-id-1 div.sk-toggleable {background-color: white;}#sk-container-id-1 label.sk-toggleable__label {cursor: pointer;display: block;width: 100%;margin-bottom: 0;padding: 0.3em;box-sizing: border-box;text-align: center;}#sk-container-id-1 label.sk-toggleable__label-arrow:before {content: \"▸\";float: left;margin-right: 0.25em;color: #696969;}#sk-container-id-1 label.sk-toggleable__label-arrow:hover:before {color: black;}#sk-container-id-1 div.sk-estimator:hover label.sk-toggleable__label-arrow:before {color: black;}#sk-container-id-1 div.sk-toggleable__content {max-height: 0;max-width: 0;overflow: hidden;text-align: left;background-color: #f0f8ff;}#sk-container-id-1 div.sk-toggleable__content pre {margin: 0.2em;color: black;border-radius: 0.25em;background-color: #f0f8ff;}#sk-container-id-1 input.sk-toggleable__control:checked~div.sk-toggleable__content {max-height: 200px;max-width: 100%;overflow: auto;}#sk-container-id-1 input.sk-toggleable__control:checked~label.sk-toggleable__label-arrow:before {content: \"▾\";}#sk-container-id-1 div.sk-estimator input.sk-toggleable__control:checked~label.sk-toggleable__label {background-color: #d4ebff;}#sk-container-id-1 div.sk-label input.sk-toggleable__control:checked~label.sk-toggleable__label {background-color: #d4ebff;}#sk-container-id-1 input.sk-hidden--visually {border: 0;clip: rect(1px 1px 1px 1px);clip: rect(1px, 1px, 1px, 1px);height: 1px;margin: -1px;overflow: hidden;padding: 0;position: absolute;width: 1px;}#sk-container-id-1 div.sk-estimator {font-family: monospace;background-color: #f0f8ff;border: 1px dotted black;border-radius: 0.25em;box-sizing: border-box;margin-bottom: 0.5em;}#sk-container-id-1 div.sk-estimator:hover {background-color: #d4ebff;}#sk-container-id-1 div.sk-parallel-item::after {content: \"\";width: 100%;border-bottom: 1px solid gray;flex-grow: 1;}#sk-container-id-1 div.sk-label:hover label.sk-toggleable__label {background-color: #d4ebff;}#sk-container-id-1 div.sk-serial::before {content: \"\";position: absolute;border-left: 1px solid gray;box-sizing: border-box;top: 0;bottom: 0;left: 50%;z-index: 0;}#sk-container-id-1 div.sk-serial {display: flex;flex-direction: column;align-items: center;background-color: white;padding-right: 0.2em;padding-left: 0.2em;position: relative;}#sk-container-id-1 div.sk-item {position: relative;z-index: 1;}#sk-container-id-1 div.sk-parallel {display: flex;align-items: stretch;justify-content: center;background-color: white;position: relative;}#sk-container-id-1 div.sk-item::before, #sk-container-id-1 div.sk-parallel-item::before {content: \"\";position: absolute;border-left: 1px solid gray;box-sizing: border-box;top: 0;bottom: 0;left: 50%;z-index: -1;}#sk-container-id-1 div.sk-parallel-item {display: flex;flex-direction: column;z-index: 1;position: relative;background-color: white;}#sk-container-id-1 div.sk-parallel-item:first-child::after {align-self: flex-end;width: 50%;}#sk-container-id-1 div.sk-parallel-item:last-child::after {align-self: flex-start;width: 50%;}#sk-container-id-1 div.sk-parallel-item:only-child::after {width: 0;}#sk-container-id-1 div.sk-dashed-wrapped {border: 1px dashed gray;margin: 0 0.4em 0.5em 0.4em;box-sizing: border-box;padding-bottom: 0.4em;background-color: white;}#sk-container-id-1 div.sk-label label {font-family: monospace;font-weight: bold;display: inline-block;line-height: 1.2em;}#sk-container-id-1 div.sk-label-container {text-align: center;}#sk-container-id-1 div.sk-container {/* jupyter's `normalize.less` sets `[hidden] { display: none; }` but bootstrap.min.css set `[hidden] { display: none !important; }` so we also need the `!important` here to be able to override the default hidden behavior on the sphinx rendered scikit-learn.org. See: https://github.com/scikit-learn/scikit-learn/issues/21755 */display: inline-block !important;position: relative;}#sk-container-id-1 div.sk-text-repr-fallback {display: none;}</style><div id=\"sk-container-id-1\" class=\"sk-top-container\"><div class=\"sk-text-repr-fallback\"><pre>LogisticRegression()</pre><b>In a Jupyter environment, please rerun this cell to show the HTML representation or trust the notebook. <br />On GitHub, the HTML representation is unable to render, please try loading this page with nbviewer.org.</b></div><div class=\"sk-container\" hidden><div class=\"sk-item\"><div class=\"sk-estimator sk-toggleable\"><input class=\"sk-toggleable__control sk-hidden--visually\" id=\"sk-estimator-id-1\" type=\"checkbox\" checked><label for=\"sk-estimator-id-1\" class=\"sk-toggleable__label sk-toggleable__label-arrow\">LogisticRegression</label><div class=\"sk-toggleable__content\"><pre>LogisticRegression()</pre></div></div></div></div></div>"
      ],
      "text/plain": [
       "LogisticRegression()"
      ]
     },
     "execution_count": 23,
     "metadata": {},
     "output_type": "execute_result"
    }
   ],
   "source": [
    "logreg = LogisticRegression()\n",
    "logreg.fit(x_train,y_train)"
   ]
  },
  {
   "cell_type": "code",
   "execution_count": 24,
   "id": "ce1f83b8",
   "metadata": {},
   "outputs": [
    {
     "name": "stdout",
     "output_type": "stream",
     "text": [
      "[ 4.96076753e-04  1.53495484e-04 -8.24299976e-05 -5.67142240e-04]\n"
     ]
    }
   ],
   "source": [
    "print(logreg.intercept_)"
   ]
  },
  {
   "cell_type": "code",
   "execution_count": 25,
   "id": "b9feaca0",
   "metadata": {},
   "outputs": [
    {
     "name": "stdout",
     "output_type": "stream",
     "text": [
      "[[-5.36487647e-04  8.84578956e-04  1.61425023e-03  1.32879870e-02\n",
      "   1.83552791e-04  4.59544011e-02  2.53266866e-03  4.66939973e-03\n",
      "  -2.03012541e-03  1.19318037e-03 -4.13120143e-03  6.35942162e-03\n",
      "   3.15782045e-03  4.11282576e-03]\n",
      " [ 1.26233870e-04  4.69798834e-05  7.84008190e-04  4.63095332e-03\n",
      "   1.15862458e-04  1.41272137e-02  9.52041163e-05  1.57119096e-03\n",
      "  -6.53548554e-05  2.58912337e-04 -7.04099660e-04  1.37948508e-03\n",
      "   3.69414511e-05  3.21860388e-03]\n",
      " [ 1.65153993e-04 -1.17951782e-04  4.11979956e-04 -6.77495174e-03\n",
      "  -4.06414005e-05 -1.45950229e-02  1.67726129e-04 -1.14522483e-03\n",
      "   7.32546572e-04 -4.79563528e-04  1.59376204e-03 -1.62028507e-03\n",
      "  -7.38586053e-04 -1.27752360e-03]\n",
      " [ 2.45099784e-04 -8.13607058e-04 -2.81023838e-03 -1.11439886e-02\n",
      "  -2.58773848e-04 -4.54865919e-02 -2.79559890e-03 -5.09536586e-03\n",
      "   1.36293370e-03 -9.72529183e-04  3.24153905e-03 -6.11862163e-03\n",
      "  -2.45617585e-03 -6.05390605e-03]]\n"
     ]
    }
   ],
   "source": [
    "print(logreg.coef_)"
   ]
  },
  {
   "cell_type": "code",
   "execution_count": 26,
   "id": "1a356ae0",
   "metadata": {},
   "outputs": [
    {
     "data": {
      "text/plain": [
       "Index(['battery_power', 'clock_speed', 'fc', 'int_memory', 'm_dep',\n",
       "       'mobile_wt', 'n_cores', 'pc', 'px_height', 'px_width', 'ram', 'sc_h',\n",
       "       'sc_w', 'talk_time'],\n",
       "      dtype='object')"
      ]
     },
     "execution_count": 26,
     "metadata": {},
     "output_type": "execute_result"
    }
   ],
   "source": [
    "x_train.columns"
   ]
  },
  {
   "cell_type": "code",
   "execution_count": 27,
   "id": "e99b2c13",
   "metadata": {},
   "outputs": [
    {
     "data": {
      "text/plain": [
       "array([[3.28512301e-04, 5.66763648e-02, 3.32230583e-01, 6.10764539e-01],\n",
       "       [1.83217728e-03, 1.83359273e-01, 4.15902069e-01, 3.98906480e-01],\n",
       "       [1.56917643e-04, 4.61906205e-02, 3.64746198e-01, 5.88906264e-01],\n",
       "       ...,\n",
       "       [8.11206445e-01, 1.83488455e-01, 5.21952945e-03, 8.55708361e-05],\n",
       "       [9.76699017e-01, 2.30832324e-02, 2.14952387e-04, 2.79841215e-06],\n",
       "       [2.63969349e-03, 2.72731258e-01, 5.77321342e-01, 1.47307707e-01]])"
      ]
     },
     "execution_count": 27,
     "metadata": {},
     "output_type": "execute_result"
    }
   ],
   "source": [
    "proba_train = logreg.predict_proba(x_train)\n",
    "proba_train\n",
    "#left side is for not getting a loan, right side is for getting a loan."
   ]
  },
  {
   "cell_type": "code",
   "execution_count": 28,
   "id": "28c671ca",
   "metadata": {},
   "outputs": [],
   "source": [
    "y_hat_train = logreg.predict(x_train)\n",
    "y_hat_test = logreg.predict(x_test)"
   ]
  },
  {
   "cell_type": "markdown",
   "id": "70711df3",
   "metadata": {},
   "source": [
    "# MODEL EVALUATION:"
   ]
  },
  {
   "cell_type": "code",
   "execution_count": 29,
   "id": "8c5e2ca2",
   "metadata": {},
   "outputs": [
    {
     "name": "stdout",
     "output_type": "stream",
     "text": [
      "[[332  76   5   0]\n",
      " [ 67 216  89  28]\n",
      " [  1  91 174 118]\n",
      " [  0   4  93 306]]\n"
     ]
    }
   ],
   "source": [
    "conf_matrix_train = confusion_matrix(y_train, y_hat_train)\n",
    "print(conf_matrix_train)"
   ]
  },
  {
   "cell_type": "code",
   "execution_count": 30,
   "id": "c8455c8c",
   "metadata": {},
   "outputs": [
    {
     "name": "stdout",
     "output_type": "stream",
     "text": [
      "[[65 22  0  0]\n",
      " [20 61 13  6]\n",
      " [ 0 29 44 43]\n",
      " [ 0  0 13 84]]\n"
     ]
    }
   ],
   "source": [
    "conf_matrix_test = confusion_matrix(y_test, y_hat_test)\n",
    "print(conf_matrix_test)"
   ]
  },
  {
   "cell_type": "code",
   "execution_count": 31,
   "id": "959307a1",
   "metadata": {},
   "outputs": [
    {
     "name": "stdout",
     "output_type": "stream",
     "text": [
      "Accuracy score for train 0.6425\n"
     ]
    }
   ],
   "source": [
    "print(\"Accuracy score for train\",accuracy_score(y_train, y_hat_train))"
   ]
  },
  {
   "cell_type": "code",
   "execution_count": 32,
   "id": "375e0abb",
   "metadata": {},
   "outputs": [
    {
     "name": "stdout",
     "output_type": "stream",
     "text": [
      "Accuracy score for test 0.635\n"
     ]
    }
   ],
   "source": [
    "print(\"Accuracy score for test\",accuracy_score(y_test, y_hat_test))"
   ]
  },
  {
   "cell_type": "code",
   "execution_count": 33,
   "id": "3fcb837d",
   "metadata": {},
   "outputs": [
    {
     "name": "stdout",
     "output_type": "stream",
     "text": [
      "              precision    recall  f1-score   support\n",
      "\n",
      "           0       0.76      0.75      0.76        87\n",
      "           1       0.54      0.61      0.58       100\n",
      "           2       0.63      0.38      0.47       116\n",
      "           3       0.63      0.87      0.73        97\n",
      "\n",
      "    accuracy                           0.64       400\n",
      "   macro avg       0.64      0.65      0.63       400\n",
      "weighted avg       0.64      0.64      0.62       400\n",
      "\n"
     ]
    }
   ],
   "source": [
    "print(classification_report(y_test, y_hat_test))"
   ]
  },
  {
   "cell_type": "code",
   "execution_count": 34,
   "id": "5ae02cd6",
   "metadata": {},
   "outputs": [
    {
     "name": "stdout",
     "output_type": "stream",
     "text": [
      "              precision    recall  f1-score   support\n",
      "\n",
      "           0       0.83      0.80      0.82       413\n",
      "           1       0.56      0.54      0.55       400\n",
      "           2       0.48      0.45      0.47       384\n",
      "           3       0.68      0.76      0.72       403\n",
      "\n",
      "    accuracy                           0.64      1600\n",
      "   macro avg       0.64      0.64      0.64      1600\n",
      "weighted avg       0.64      0.64      0.64      1600\n",
      "\n"
     ]
    }
   ],
   "source": [
    "print(classification_report(y_train, y_hat_train))"
   ]
  },
  {
   "cell_type": "code",
   "execution_count": null,
   "id": "bd8dbcbd",
   "metadata": {},
   "outputs": [],
   "source": []
  }
 ],
 "metadata": {
  "kernelspec": {
   "display_name": "Python 3 (ipykernel)",
   "language": "python",
   "name": "python3"
  },
  "language_info": {
   "codemirror_mode": {
    "name": "ipython",
    "version": 3
   },
   "file_extension": ".py",
   "mimetype": "text/x-python",
   "name": "python",
   "nbconvert_exporter": "python",
   "pygments_lexer": "ipython3",
   "version": "3.10.9"
  }
 },
 "nbformat": 4,
 "nbformat_minor": 5
}
