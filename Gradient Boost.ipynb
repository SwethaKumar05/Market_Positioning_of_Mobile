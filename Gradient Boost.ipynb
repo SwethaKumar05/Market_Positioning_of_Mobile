{
 "cells": [
  {
   "cell_type": "markdown",
   "id": "6abb2bee",
   "metadata": {},
   "source": [
    "# Market_Positioning_of_Mobile"
   ]
  },
  {
   "cell_type": "raw",
   "id": "edd9417d",
   "metadata": {},
   "source": [
    "Author: Swetha Kumar\n",
    "Date : 07/03/2024"
   ]
  },
  {
   "cell_type": "markdown",
   "id": "d3df8376",
   "metadata": {},
   "source": [
    "# GRADIENT BOOSTING:"
   ]
  },
  {
   "cell_type": "code",
   "execution_count": 190,
   "id": "82a010de",
   "metadata": {},
   "outputs": [],
   "source": [
    "gb= GradientBoostingClassifier(n_estimators = 150)\n",
    "gb.fit(x_train, y_train)\n",
    "y_train_gb = gb.predict(x_train)\n",
    "y_hat_test_gb = gb.predict(x_test)"
   ]
  },
  {
   "cell_type": "code",
   "execution_count": 191,
   "id": "7d9aead4",
   "metadata": {},
   "outputs": [
    {
     "name": "stdout",
     "output_type": "stream",
     "text": [
      "The Accuracy of the model is:  1.0\n",
      "[[413   0   0   0]\n",
      " [  0 400   0   0]\n",
      " [  0   0 384   0]\n",
      " [  0   0   0 403]]\n",
      "              precision    recall  f1-score   support\n",
      "\n",
      "           0       1.00      1.00      1.00       413\n",
      "           1       1.00      1.00      1.00       400\n",
      "           2       1.00      1.00      1.00       384\n",
      "           3       1.00      1.00      1.00       403\n",
      "\n",
      "    accuracy                           1.00      1600\n",
      "   macro avg       1.00      1.00      1.00      1600\n",
      "weighted avg       1.00      1.00      1.00      1600\n",
      "\n"
     ]
    }
   ],
   "source": [
    "model_eval(y_train, y_train_gb)"
   ]
  },
  {
   "cell_type": "code",
   "execution_count": 192,
   "id": "9e1ead39",
   "metadata": {},
   "outputs": [
    {
     "name": "stdout",
     "output_type": "stream",
     "text": [
      "The Accuracy of the model is:  0.92\n",
      "[[ 85   2   0   0]\n",
      " [  5  91   4   0]\n",
      " [  0   7 100   9]\n",
      " [  0   0   7  90]]\n",
      "              precision    recall  f1-score   support\n",
      "\n",
      "           0       0.94      0.98      0.96        87\n",
      "           1       0.91      0.91      0.91       100\n",
      "           2       0.90      0.86      0.88       116\n",
      "           3       0.91      0.93      0.92        97\n",
      "\n",
      "    accuracy                           0.92       400\n",
      "   macro avg       0.92      0.92      0.92       400\n",
      "weighted avg       0.91      0.92      0.91       400\n",
      "\n"
     ]
    }
   ],
   "source": [
    "model_eval(y_test, y_hat_test_gb)"
   ]
  },
  {
   "cell_type": "code",
   "execution_count": null,
   "id": "c0510848",
   "metadata": {},
   "outputs": [],
   "source": []
  }
 ],
 "metadata": {
  "kernelspec": {
   "display_name": "Python 3 (ipykernel)",
   "language": "python",
   "name": "python3"
  },
  "language_info": {
   "codemirror_mode": {
    "name": "ipython",
    "version": 3
   },
   "file_extension": ".py",
   "mimetype": "text/x-python",
   "name": "python",
   "nbconvert_exporter": "python",
   "pygments_lexer": "ipython3",
   "version": "3.10.9"
  }
 },
 "nbformat": 4,
 "nbformat_minor": 5
}
